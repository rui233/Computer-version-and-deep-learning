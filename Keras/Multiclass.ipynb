{
 "cells": [
  {
   "cell_type": "code",
   "execution_count": 1,
   "metadata": {},
   "outputs": [
    {
     "name": "stderr",
     "output_type": "stream",
     "text": [
      "Using TensorFlow backend.\n"
     ]
    }
   ],
   "source": [
    "import numpy as np\n",
    "import keras\n",
    "from sklearn import datasets\n",
    "import matplotlib.pyplot as plt\n",
    "from keras.models import Sequential\n",
    "from keras.layers import Dense\n",
    "from keras.optimizers import Adam\n",
    "from keras.utils.np_utils import to_categorical"
   ]
  },
  {
   "cell_type": "code",
   "execution_count": 3,
   "metadata": {},
   "outputs": [
    {
     "name": "stdout",
     "output_type": "stream",
     "text": [
      "[3 3 4 0 2 1 1 4 4 4 3 2 1 0 2 4 4 4 3 0 3 0 3 4 1 3 1 0 4 2 3 1 0 4 1 0 4\n",
      " 0 4 0 1 3 3 0 3 1 3 4 0 4 0 2 3 0 2 4 4 0 3 4 1 3 0 4 2 1 1 2 3 2 3 2 1 1\n",
      " 3 2 4 2 2 3 0 2 4 3 2 1 3 3 3 3 1 1 4 2 4 4 1 2 4 1 4 2 2 3 4 1 1 3 3 2 1\n",
      " 3 1 0 1 0 4 4 4 3 1 3 3 3 1 4 4 0 2 0 1 1 0 4 0 1 1 4 4 0 4 3 4 4 2 4 0 0\n",
      " 0 4 2 0 4 1 0 2 2 1 3 0 1 2 2 4 4 1 3 2 3 3 3 2 2 2 4 0 1 1 0 1 4 4 3 2 3\n",
      " 2 3 1 0 3 4 2 1 0 0 0 4 3 0 4 2 2 3 1 0 4 4 1 2 1 3 1 4 4 0 1 4 2 4 0 4 0\n",
      " 1 2 3 0 1 0 3 3 4 3 4 0 0 1 1 3 0 4 1 4 2 1 2 4 4 3 3 1 1 1 4 1 1 1 4 3 1\n",
      " 0 0 2 2 2 3 2 3 4 2 3 3 1 1 0 4 0 3 0 0 0 3 2 2 1 4 2 0 0 2 2 1 3 3 1 3 0\n",
      " 0 1 4 2 2 2 1 0 0 1 0 0 1 2 4 2 4 2 1 3 0 0 1 4 1 2 4 4 4 3 4 1 2 3 1 3 1\n",
      " 0 0 2 4 1 3 1 1 2 1 4 3 1 2 3 2 0 4 1 4 0 2 2 0 1 2 2 4 4 0 4 1 3 3 2 2 0\n",
      " 4 3 3 1 2 2 4 3 0 3 3 3 3 0 1 4 4 4 0 3 3 2 4 0 4 0 0 4 2 2 2 3 0 2 0 0 1\n",
      " 2 3 0 0 2 4 2 3 0 3 0 1 0 4 1 0 0 1 3 1 4 0 2 1 1 3 2 3 2 2 2 3 1 0 0 0 1\n",
      " 3 4 2 1 0 2 1 4 3 3 4 0 0 2 2 0 0 2 2 3 4 3 2 2 2 2 0 1 3 0 2 1 2 0 2 3 4\n",
      " 3 1 4 3 3 0 2 4 0 4 1 3 2 1 3 0 1 2 1]\n",
      "[[0. 0. 0. 1. 0.]\n",
      " [0. 0. 0. 1. 0.]\n",
      " [0. 0. 0. 0. 1.]\n",
      " ...\n",
      " [0. 1. 0. 0. 0.]\n",
      " [0. 0. 1. 0. 0.]\n",
      " [0. 1. 0. 0. 0.]]\n"
     ]
    },
    {
     "data": {
      "image/png": "[encoded data removed]",
      "text/plain": [
       "<Figure size 432x288 with 1 Axes>"
      ]
     },
     "metadata": {
      "needs_background": "light"
     },
     "output_type": "display_data"
    }
   ],
   "source": [
    "n_pts = 500\n",
    "centers = [[-1, 1], [-1, -1], [1, -1], [1, 1], [0, 0]]\n",
    "X, y = datasets.make_blobs(n_samples=n_pts, random_state = 123, centers=centers, cluster_std=0.4)\n",
    " \n",
    "plt.scatter(X[y==0, 0], X[y==0, 1])\n",
    "plt.scatter(X[y==1, 0], X[y==1, 1])\n",
    "plt.scatter(X[y==2, 0], X[y==2, 1])\n",
    "plt.scatter(X[y==3, 0], X[y==3, 1])\n",
    "plt.scatter(X[y==4, 0], X[y==4, 1])\n",
    "print(y)\n",
    "y_cat = to_categorical(y, 5)\n",
    "print(y_cat)"
   ]
  },
  {
   "cell_type": "code",
   "execution_count": 4,
   "metadata": {},
   "outputs": [
    {
     "name": "stderr",
     "output_type": "stream",
     "text": [
      "WARNING: Logging before flag parsing goes to stderr.\n",
      "W0830 13:22:05.194222 28496 deprecation_wrapper.py:119] From D:\\Anaconda\\lib\\site-packages\\keras\\backend\\tensorflow_backend.py:74: The name tf.get_default_graph is deprecated. Please use tf.compat.v1.get_default_graph instead.\n",
      "\n",
      "W0830 13:22:05.398777 28496 deprecation_wrapper.py:119] From D:\\Anaconda\\lib\\site-packages\\keras\\backend\\tensorflow_backend.py:517: The name tf.placeholder is deprecated. Please use tf.compat.v1.placeholder instead.\n",
      "\n",
      "W0830 13:22:05.452634 28496 deprecation_wrapper.py:119] From D:\\Anaconda\\lib\\site-packages\\keras\\backend\\tensorflow_backend.py:4138: The name tf.random_uniform is deprecated. Please use tf.random.uniform instead.\n",
      "\n",
      "W0830 13:22:05.526433 28496 deprecation_wrapper.py:119] From D:\\Anaconda\\lib\\site-packages\\keras\\optimizers.py:790: The name tf.train.Optimizer is deprecated. Please use tf.compat.v1.train.Optimizer instead.\n",
      "\n",
      "W0830 13:22:05.533416 28496 deprecation_wrapper.py:119] From D:\\Anaconda\\lib\\site-packages\\keras\\backend\\tensorflow_backend.py:3295: The name tf.log is deprecated. Please use tf.math.log instead.\n",
      "\n"
     ]
    }
   ],
   "source": [
    "model = Sequential()\n",
    "model.add(Dense(5, input_shape=(2,), activation='softmax'))\n",
    "model.compile(Adam(lr=0.1), 'categorical_crossentropy', metrics=['accuracy'])"
   ]
  },
  {
   "cell_type": "code",
   "execution_count": 15,
   "metadata": {},
   "outputs": [],
   "source": [
    "np.linspace?"
   ]
  },
  {
   "cell_type": "code",
   "execution_count": 5,
   "metadata": {},
   "outputs": [
    {
     "name": "stderr",
     "output_type": "stream",
     "text": [
      "W0830 13:23:10.663792 28496 deprecation.py:323] From D:\\Anaconda\\lib\\site-packages\\tensorflow\\python\\ops\\math_grad.py:1250: add_dispatch_support.<locals>.wrapper (from tensorflow.python.ops.array_ops) is deprecated and will be removed in a future version.\n",
      "Instructions for updating:\n",
      "Use tf.where in 2.0, which has the same broadcast rule as np.where\n",
      "W0830 13:23:10.776462 28496 deprecation_wrapper.py:119] From D:\\Anaconda\\lib\\site-packages\\keras\\backend\\tensorflow_backend.py:986: The name tf.assign_add is deprecated. Please use tf.compat.v1.assign_add instead.\n",
      "\n"
     ]
    },
    {
     "name": "stdout",
     "output_type": "stream",
     "text": [
      "Epoch 1/100\n",
      "500/500 [==============================] - 1s 1ms/step - loss: 1.5204 - acc: 0.4040\n",
      "Epoch 2/100\n",
      "500/500 [==============================] - 0s 26us/step - loss: 0.7061 - acc: 0.8280\n",
      "Epoch 3/100\n",
      "500/500 [==============================] - 0s 26us/step - loss: 0.4547 - acc: 0.8900\n",
      "Epoch 4/100\n",
      "500/500 [==============================] - 0s 24us/step - loss: 0.3561 - acc: 0.9500\n",
      "Epoch 5/100\n",
      "500/500 [==============================] - 0s 16us/step - loss: 0.3026 - acc: 0.9460\n",
      "Epoch 6/100\n",
      "500/500 [==============================] - 0s 20us/step - loss: 0.2750 - acc: 0.9460\n",
      "Epoch 7/100\n",
      "500/500 [==============================] - 0s 24us/step - loss: 0.2554 - acc: 0.9500\n",
      "Epoch 8/100\n",
      "500/500 [==============================] - 0s 22us/step - loss: 0.2428 - acc: 0.9440\n",
      "Epoch 9/100\n",
      "500/500 [==============================] - 0s 26us/step - loss: 0.2318 - acc: 0.9440\n",
      "Epoch 10/100\n",
      "500/500 [==============================] - 0s 18us/step - loss: 0.2218 - acc: 0.9500\n",
      "Epoch 11/100\n",
      "500/500 [==============================] - 0s 24us/step - loss: 0.2158 - acc: 0.9500\n",
      "Epoch 12/100\n",
      "500/500 [==============================] - 0s 28us/step - loss: 0.2092 - acc: 0.9460\n",
      "Epoch 13/100\n",
      "500/500 [==============================] - 0s 22us/step - loss: 0.2021 - acc: 0.9500\n",
      "Epoch 14/100\n",
      "500/500 [==============================] - 0s 16us/step - loss: 0.1979 - acc: 0.9460\n",
      "Epoch 15/100\n",
      "500/500 [==============================] - 0s 20us/step - loss: 0.1934 - acc: 0.9460\n",
      "Epoch 16/100\n",
      "500/500 [==============================] - 0s 26us/step - loss: 0.1907 - acc: 0.9480\n",
      "Epoch 17/100\n",
      "500/500 [==============================] - 0s 26us/step - loss: 0.1876 - acc: 0.9460\n",
      "Epoch 18/100\n",
      "500/500 [==============================] - 0s 16us/step - loss: 0.1853 - acc: 0.9480\n",
      "Epoch 19/100\n",
      "500/500 [==============================] - 0s 18us/step - loss: 0.1820 - acc: 0.9460\n",
      "Epoch 20/100\n",
      "500/500 [==============================] - 0s 28us/step - loss: 0.1799 - acc: 0.9480\n",
      "Epoch 21/100\n",
      "500/500 [==============================] - 0s 28us/step - loss: 0.1769 - acc: 0.9480\n",
      "Epoch 22/100\n",
      "500/500 [==============================] - 0s 28us/step - loss: 0.1756 - acc: 0.9460\n",
      "Epoch 23/100\n",
      "500/500 [==============================] - 0s 22us/step - loss: 0.1749 - acc: 0.9480\n",
      "Epoch 24/100\n",
      "500/500 [==============================] - 0s 18us/step - loss: 0.1718 - acc: 0.9500\n",
      "Epoch 25/100\n",
      "500/500 [==============================] - 0s 20us/step - loss: 0.1717 - acc: 0.9500\n",
      "Epoch 26/100\n",
      "500/500 [==============================] - 0s 20us/step - loss: 0.1690 - acc: 0.9480\n",
      "Epoch 27/100\n",
      "500/500 [==============================] - 0s 26us/step - loss: 0.1685 - acc: 0.9500\n",
      "Epoch 28/100\n",
      "500/500 [==============================] - 0s 24us/step - loss: 0.1667 - acc: 0.9500\n",
      "Epoch 29/100\n",
      "500/500 [==============================] - 0s 16us/step - loss: 0.1668 - acc: 0.9520\n",
      "Epoch 30/100\n",
      "500/500 [==============================] - 0s 22us/step - loss: 0.1650 - acc: 0.9520\n",
      "Epoch 31/100\n",
      "500/500 [==============================] - 0s 26us/step - loss: 0.1646 - acc: 0.9480\n",
      "Epoch 32/100\n",
      "500/500 [==============================] - 0s 24us/step - loss: 0.1630 - acc: 0.9500\n",
      "Epoch 33/100\n",
      "500/500 [==============================] - 0s 16us/step - loss: 0.1645 - acc: 0.9480\n",
      "Epoch 34/100\n",
      "500/500 [==============================] - 0s 20us/step - loss: 0.1619 - acc: 0.9480\n",
      "Epoch 35/100\n",
      "500/500 [==============================] - 0s 24us/step - loss: 0.1636 - acc: 0.9480\n",
      "Epoch 36/100\n",
      "500/500 [==============================] - 0s 24us/step - loss: 0.1610 - acc: 0.9480\n",
      "Epoch 37/100\n",
      "500/500 [==============================] - 0s 26us/step - loss: 0.1606 - acc: 0.9500\n",
      "Epoch 38/100\n",
      "500/500 [==============================] - 0s 22us/step - loss: 0.1613 - acc: 0.9460\n",
      "Epoch 39/100\n",
      "500/500 [==============================] - 0s 16us/step - loss: 0.1585 - acc: 0.9500\n",
      "Epoch 40/100\n",
      "500/500 [==============================] - 0s 18us/step - loss: 0.1584 - acc: 0.9500\n",
      "Epoch 41/100\n",
      "500/500 [==============================] - 0s 28us/step - loss: 0.1583 - acc: 0.9500\n",
      "Epoch 42/100\n",
      "500/500 [==============================] - 0s 26us/step - loss: 0.1582 - acc: 0.9460\n",
      "Epoch 43/100\n",
      "500/500 [==============================] - 0s 22us/step - loss: 0.1586 - acc: 0.9520\n",
      "Epoch 44/100\n",
      "500/500 [==============================] - 0s 18us/step - loss: 0.1575 - acc: 0.9500\n",
      "Epoch 45/100\n",
      "500/500 [==============================] - 0s 20us/step - loss: 0.1579 - acc: 0.9480\n",
      "Epoch 46/100\n",
      "500/500 [==============================] - 0s 28us/step - loss: 0.1567 - acc: 0.9520\n",
      "Epoch 47/100\n",
      "500/500 [==============================] - 0s 24us/step - loss: 0.1573 - acc: 0.9500\n",
      "Epoch 48/100\n",
      "500/500 [==============================] - 0s 22us/step - loss: 0.1568 - acc: 0.9480\n",
      "Epoch 49/100\n",
      "500/500 [==============================] - 0s 14us/step - loss: 0.1549 - acc: 0.9500\n",
      "Epoch 50/100\n",
      "500/500 [==============================] - 0s 22us/step - loss: 0.1561 - acc: 0.9540\n",
      "Epoch 51/100\n",
      "500/500 [==============================] - 0s 26us/step - loss: 0.1566 - acc: 0.9480\n",
      "Epoch 52/100\n",
      "500/500 [==============================] - 0s 24us/step - loss: 0.1563 - acc: 0.9480\n",
      "Epoch 53/100\n",
      "500/500 [==============================] - 0s 20us/step - loss: 0.1556 - acc: 0.9520\n",
      "Epoch 54/100\n",
      "500/500 [==============================] - 0s 18us/step - loss: 0.1553 - acc: 0.9480\n",
      "Epoch 55/100\n",
      "500/500 [==============================] - 0s 30us/step - loss: 0.1545 - acc: 0.9460\n",
      "Epoch 56/100\n",
      "500/500 [==============================] - 0s 24us/step - loss: 0.1543 - acc: 0.9520\n",
      "Epoch 57/100\n",
      "500/500 [==============================] - 0s 30us/step - loss: 0.1540 - acc: 0.9520\n",
      "Epoch 58/100\n",
      "500/500 [==============================] - 0s 22us/step - loss: 0.1540 - acc: 0.9520\n",
      "Epoch 59/100\n",
      "500/500 [==============================] - 0s 16us/step - loss: 0.1554 - acc: 0.9500\n",
      "Epoch 60/100\n",
      "500/500 [==============================] - 0s 20us/step - loss: 0.1578 - acc: 0.9400\n",
      "Epoch 61/100\n",
      "500/500 [==============================] - 0s 20us/step - loss: 0.1554 - acc: 0.9480\n",
      "Epoch 62/100\n",
      "500/500 [==============================] - 0s 28us/step - loss: 0.1541 - acc: 0.9500\n",
      "Epoch 63/100\n",
      "500/500 [==============================] - 0s 28us/step - loss: 0.1537 - acc: 0.9500\n",
      "Epoch 64/100\n",
      "500/500 [==============================] - 0s 24us/step - loss: 0.1536 - acc: 0.9500\n",
      "Epoch 65/100\n",
      "500/500 [==============================] - 0s 28us/step - loss: 0.1528 - acc: 0.9520\n",
      "Epoch 66/100\n",
      "500/500 [==============================] - 0s 24us/step - loss: 0.1529 - acc: 0.9480\n",
      "Epoch 67/100\n",
      "500/500 [==============================] - 0s 14us/step - loss: 0.1533 - acc: 0.9460\n",
      "Epoch 68/100\n",
      "500/500 [==============================] - 0s 18us/step - loss: 0.1538 - acc: 0.9480\n",
      "Epoch 69/100\n",
      "500/500 [==============================] - 0s 24us/step - loss: 0.1533 - acc: 0.9540\n",
      "Epoch 70/100\n",
      "500/500 [==============================] - 0s 24us/step - loss: 0.1525 - acc: 0.9520\n",
      "Epoch 71/100\n",
      "500/500 [==============================] - 0s 22us/step - loss: 0.1526 - acc: 0.9520\n",
      "Epoch 72/100\n",
      "500/500 [==============================] - 0s 18us/step - loss: 0.1528 - acc: 0.9500\n",
      "Epoch 73/100\n",
      "500/500 [==============================] - 0s 24us/step - loss: 0.1514 - acc: 0.9520\n",
      "Epoch 74/100\n",
      "500/500 [==============================] - 0s 22us/step - loss: 0.1521 - acc: 0.9520\n",
      "Epoch 75/100\n",
      "500/500 [==============================] - 0s 24us/step - loss: 0.1537 - acc: 0.9500\n",
      "Epoch 76/100\n",
      "500/500 [==============================] - 0s 16us/step - loss: 0.1517 - acc: 0.9500\n",
      "Epoch 77/100\n",
      "500/500 [==============================] - 0s 24us/step - loss: 0.1526 - acc: 0.9500\n",
      "Epoch 78/100\n",
      "500/500 [==============================] - 0s 24us/step - loss: 0.1518 - acc: 0.9560\n",
      "Epoch 79/100\n",
      "500/500 [==============================] - 0s 20us/step - loss: 0.1526 - acc: 0.9500\n",
      "Epoch 80/100\n",
      "500/500 [==============================] - 0s 16us/step - loss: 0.1538 - acc: 0.9500\n",
      "Epoch 81/100\n",
      "500/500 [==============================] - 0s 24us/step - loss: 0.1515 - acc: 0.9500\n",
      "Epoch 82/100\n",
      "500/500 [==============================] - 0s 22us/step - loss: 0.1534 - acc: 0.9480\n",
      "Epoch 83/100\n",
      "500/500 [==============================] - 0s 16us/step - loss: 0.1516 - acc: 0.9460\n",
      "Epoch 84/100\n"
     ]
    },
    {
     "name": "stdout",
     "output_type": "stream",
     "text": [
      "500/500 [==============================] - 0s 24us/step - loss: 0.1519 - acc: 0.9520\n",
      "Epoch 85/100\n",
      "500/500 [==============================] - 0s 26us/step - loss: 0.1532 - acc: 0.9520\n",
      "Epoch 86/100\n",
      "500/500 [==============================] - 0s 26us/step - loss: 0.1516 - acc: 0.9500\n",
      "Epoch 87/100\n",
      "500/500 [==============================] - 0s 16us/step - loss: 0.1515 - acc: 0.9500\n",
      "Epoch 88/100\n",
      "500/500 [==============================] - 0s 18us/step - loss: 0.1520 - acc: 0.9480\n",
      "Epoch 89/100\n",
      "500/500 [==============================] - 0s 24us/step - loss: 0.1518 - acc: 0.9520\n",
      "Epoch 90/100\n",
      "500/500 [==============================] - 0s 26us/step - loss: 0.1512 - acc: 0.9520\n",
      "Epoch 91/100\n",
      "500/500 [==============================] - 0s 16us/step - loss: 0.1570 - acc: 0.9480\n",
      "Epoch 92/100\n",
      "500/500 [==============================] - 0s 22us/step - loss: 0.1506 - acc: 0.9500\n",
      "Epoch 93/100\n",
      "500/500 [==============================] - 0s 24us/step - loss: 0.1526 - acc: 0.9440\n",
      "Epoch 94/100\n",
      "500/500 [==============================] - 0s 22us/step - loss: 0.1557 - acc: 0.9480\n",
      "Epoch 95/100\n",
      "500/500 [==============================] - 0s 14us/step - loss: 0.1510 - acc: 0.9480\n",
      "Epoch 96/100\n",
      "500/500 [==============================] - 0s 16us/step - loss: 0.1513 - acc: 0.9500\n",
      "Epoch 97/100\n",
      "500/500 [==============================] - 0s 34us/step - loss: 0.1526 - acc: 0.9520\n",
      "Epoch 98/100\n",
      "500/500 [==============================] - 0s 20us/step - loss: 0.1520 - acc: 0.9520\n",
      "Epoch 99/100\n",
      "500/500 [==============================] - 0s 24us/step - loss: 0.1529 - acc: 0.9480\n",
      "Epoch 100/100\n",
      "500/500 [==============================] - 0s 16us/step - loss: 0.1505 - acc: 0.9480\n"
     ]
    }
   ],
   "source": [
    "history = model.fit(X, y_cat, verbose=1, batch_size = 50, epochs=100)"
   ]
  },
  {
   "cell_type": "code",
   "execution_count": 6,
   "metadata": {},
   "outputs": [],
   "source": [
    "def plot_multiclass_decision_boundary(X, y, model):\n",
    "    x_span = np.linspace(min(X[:,0]) - 1, max(X[:,0]) + 1)\n",
    "    y_span = np.linspace(min(X[:,1]) - 1, max(X[:,1]) + 1)\n",
    "    xx, yy = np.meshgrid(x_span, y_span)\n",
    "    grid = np.c_[xx.ravel(), yy.ravel()]\n",
    "    pred_func = model.predict_classes(grid)\n",
    "    z = pred_func.reshape(xx.shape)\n",
    "    plt.contourf(xx, yy, z)"
   ]
  },
  {
   "cell_type": "code",
   "execution_count": 7,
   "metadata": {},
   "outputs": [
    {
     "name": "stdout",
     "output_type": "stream",
     "text": [
      "Prediction is:  [4]\n"
     ]
    },
    {
     "data": {
      "image/png": "[encoded data removed]",
      "text/plain": [
       "<Figure size 432x288 with 1 Axes>"
      ]
     },
     "metadata": {
      "needs_background": "light"
     },
     "output_type": "display_data"
    }
   ],
   "source": [
    "plot_multiclass_decision_boundary(X, y_cat, model)\n",
    "plt.scatter(X[y==0, 0], X[y==0, 1])\n",
    "plt.scatter(X[y==1, 0], X[y==1, 1])\n",
    "plt.scatter(X[y==2, 0], X[y==2, 1])\n",
    "plt.scatter(X[y==3, 0], X[y==3, 1])\n",
    "plt.scatter(X[y==4, 0], X[y==4, 1])\n",
    "plot_multiclass_decision_boundary(X, y_cat, model)\n",
    "plt.scatter(X[y==0, 0], X[y==0, 1])\n",
    "plt.scatter(X[y==1, 0], X[y==1, 1])\n",
    "plt.scatter(X[y==2, 0], X[y==2, 1])\n",
    "plt.scatter(X[y==3, 0], X[y==3, 1])\n",
    "plt.scatter(X[y==4, 0], X[y==4, 1])\n",
    " \n",
    "x = -0.5\n",
    "y = -0.5\n",
    " \n",
    "point = np.array([[x, y]])\n",
    "prediction = model.predict_classes(point)\n",
    "plt.plot([x], [y], marker='o', markersize=10, color=\"yellow\")\n",
    "print(\"Prediction is: \", prediction)"
   ]
  },
  {
   "cell_type": "code",
   "execution_count": 17,
   "metadata": {},
   "outputs": [],
   "source": [
    "np.meshgrid?"
   ]
  }
 ],
 "metadata": {
  "kernelspec": {
   "display_name": "Python 3",
   "language": "python",
   "name": "python3"
  },
  "language_info": {
   "codemirror_mode": {
    "name": "ipython",
    "version": 3
   },
   "file_extension": ".py",
   "mimetype": "text/x-python",
   "name": "python",
   "nbconvert_exporter": "python",
   "pygments_lexer": "ipython3",
   "version": "3.7.3"
  }
 },
 "nbformat": 4,
 "nbformat_minor": 2
}
