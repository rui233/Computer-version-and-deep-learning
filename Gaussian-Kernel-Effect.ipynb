{
 "cells": [
  {
   "cell_type": "code",
   "execution_count": 1,
   "metadata": {},
   "outputs": [],
   "source": [
    "import cv2\n",
    "import numpy as np"
   ]
  },
  {
   "cell_type": "code",
   "execution_count": 6,
   "metadata": {},
   "outputs": [],
   "source": [
    "img = cv2.imread('./lenna.jpg')\n",
    "cv2.imshow('lenna', img)\n",
    "key = cv2.waitKey()\n",
    "if key == 27:\n",
    "    cv2.destroyAllWindows()"
   ]
  },
  {
   "cell_type": "code",
   "execution_count": 7,
   "metadata": {},
   "outputs": [],
   "source": [
    "# Gaussian Kernel Effect\n",
    "g_img = cv2.GaussianBlur(img,(7,7),5)\n",
    "cv2.imshow('lenna', g_img)\n",
    "key = cv2.waitKey()\n",
    "if key == 27:\n",
    "    cv2.destroyAllWindows()\n",
    "\n"
   ]
  },
  {
   "cell_type": "code",
   "execution_count": 8,
   "metadata": {},
   "outputs": [],
   "source": [
    "# 图像变更模糊，因为范围更大，平均效果更明显\n",
    "g_img = cv2.GaussianBlur(img,(17,17),5)\n",
    "cv2.imshow('gaussian_blur_lenna', g_img)\n",
    "key = cv2.waitKey()\n",
    "if key == 27:\n",
    "    cv2.destroyAllWindows()\n"
   ]
  },
  {
   "cell_type": "code",
   "execution_count": 9,
   "metadata": {},
   "outputs": [],
   "source": [
    "\n",
    "# 图像更清晰，因为方差更小，高斯图像更尖锐，中心点起的作用更大\n",
    "g_img = cv2.GaussianBlur(img,(7,7),1)\n",
    "cv2.imshow('gaussian_blur_lenna', g_img)\n",
    "key = cv2.waitKey()\n",
    "if key == 27:\n",
    "    cv2.destroyAllWindows()"
   ]
  },
  {
   "cell_type": "code",
   "execution_count": 16,
   "metadata": {},
   "outputs": [],
   "source": [
    "# 为啥一维，因为一维运算快\n",
    "# 理论解释\n",
    "# 用显式地代码看隐式地高斯和显示地分步高斯地效果\n",
    "g1_img = cv2.GaussianBlur(img,(7,7),5)\n",
    "g2_img = cv2.sepFilter2D(img, -1, 3, 1) # ori, depth, kernelX, kernelY\n",
    "cv2.imshow('g1_blur_lenna', g1_img)\n",
    "cv2.imshow('g2_blur_lenna', g2_img)\n",
    "key = cv2.waitKey()\n",
    "if key == 27:\n",
    "    cv2.destroyAllWindows()"
   ]
  },
  {
   "cell_type": "code",
   "execution_count": 17,
   "metadata": {},
   "outputs": [],
   "source": [
    "######## Other Applications #########\n",
    "# 2nd derivative: laplacian （双边缘效果）\n",
    "kernel_lap = np.array([[0, 1, 0], [1, -4, 1], [0, 1, 0]], np.float32)\n",
    "lap_img = cv2.filter2D(img, -1, kernel=kernel_lap)\n",
    "cv2.imshow('lap_lenna', lap_img)\n",
    "key = cv2.waitKey()\n",
    "if key == 27:\n",
    "    cv2.destroyAllWindows()"
   ]
  },
  {
   "cell_type": "code",
   "execution_count": 24,
   "metadata": {},
   "outputs": [],
   "source": [
    "# 应用： 图像锐化 = edge+ori\n",
    "# app: sharpen\n",
    "# 图像+edge=更锐利地图像，因为突出边缘\n",
    "kernel_sharp = np.array([[0, 1, 0], [1, -3, 1], [0, 1, 0]], np.float32) \n",
    "lap_img = cv2.filter2D(img, -1, kernel=kernel_sharp)\n",
    "cv2.imshow('sharp_lenna', lap_img)\n",
    "key = cv2.waitKey()\n",
    "if key == 27:\n",
    "    cv2.destroyAllWindows()"
   ]
  },
  {
   "cell_type": "code",
   "execution_count": 25,
   "metadata": {},
   "outputs": [],
   "source": [
    "# 这样不对，因为，周围有4个1，中间是-3，虽然有边缘效果，但是周围得1会使得原kernel有滤波效果，使图像模糊；\n",
    "# 解决：所以取kernel_lap得相反数，再加上原图像，这样突出了中心像素，效果类似于小方差的高斯，所以\n",
    "#      可以既有边缘效果，又保留图像清晰度\n",
    "kernel_sharp = np.array([[0, -1, 0], [-1, 5, -1], [0, -1, 0]], np.float32) \n",
    "lap_img = cv2.filter2D(img, -1, kernel=kernel_sharp)\n",
    "cv2.imshow('sharp_lenna', lap_img)\n",
    "key = cv2.waitKey()\n",
    "if key == 27:\n",
    "    cv2.destroyAllWindows()"
   ]
  },
  {
   "cell_type": "code",
   "execution_count": 26,
   "metadata": {},
   "outputs": [],
   "source": [
    "# 更“凶猛”的边缘效果\n",
    "# 不仅考虑x-y方向上的梯度，同时考虑了对角线方向上的梯度\n",
    "kernel_sharp = np.array([[1, 1, 1], [1, -8, 1], [1, 1, 1]], np.float32) \n",
    "lap_img = cv2.filter2D(img, -1, kernel=kernel_sharp)\n",
    "cv2.imshow('sharper_lenna', lap_img)\n",
    "key = cv2.waitKey()\n",
    "if key == 27:\n",
    "    cv2.destroyAllWindows()"
   ]
  },
  {
   "cell_type": "code",
   "execution_count": null,
   "metadata": {},
   "outputs": [],
   "source": []
  }
 ],
 "metadata": {
  "kernelspec": {
   "display_name": "Python 3",
   "language": "python",
   "name": "python3"
  },
  "language_info": {
   "codemirror_mode": {
    "name": "ipython",
    "version": 3
   },
   "file_extension": ".py",
   "mimetype": "text/x-python",
   "name": "python",
   "nbconvert_exporter": "python",
   "pygments_lexer": "ipython3",
   "version": "3.7.3"
  }
 },
 "nbformat": 4,
 "nbformat_minor": 2
}
